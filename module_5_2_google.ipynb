{
  "nbformat": 4,
  "nbformat_minor": 0,
  "metadata": {
    "colab": {
      "provenance": [],
      "authorship_tag": "ABX9TyMHtzRLzUGOda809HMm9EFH",
      "include_colab_link": true
    },
    "kernelspec": {
      "name": "python3",
      "display_name": "Python 3"
    },
    "language_info": {
      "name": "python"
    }
  },
  "cells": [
    {
      "cell_type": "markdown",
      "metadata": {
        "id": "view-in-github",
        "colab_type": "text"
      },
      "source": [
        "<a href=\"https://colab.research.google.com/github/santfan/module_5/blob/main/module_5_2_google.ipynb\" target=\"_parent\"><img src=\"https://colab.research.google.com/assets/colab-badge.svg\" alt=\"Open In Colab\"/></a>"
      ]
    },
    {
      "cell_type": "code",
      "execution_count": 29,
      "metadata": {
        "id": "9iAxD0Ahm20L"
      },
      "outputs": [],
      "source": [
        "# Создадим класс объектов House\n",
        "class House():\n",
        "  # Инициируем созданный класс с атрибутами name и numbers_of_floos\n",
        "  def __init__(self, name, numbers_of_floos):\n",
        "    self.name = name\n",
        "    self.numbers_of_floos = numbers_of_floos"
      ]
    },
    {
      "cell_type": "code",
      "execution_count": 31,
      "metadata": {
        "id": "yudTYMjCmoBr"
      },
      "outputs": [],
      "source": [
        "# Создадим два объекта класса House согластно условию\n",
        "h1 = House('ЖК Эльбрус', 10)\n",
        "h2 = House('ЖК Акация', 20)"
      ]
    },
    {
      "cell_type": "code",
      "source": [
        "# Убедимся что объекты создались\n",
        "print(h1.name, h1.numbers_of_floos)\n",
        "print(h2.name, h2.numbers_of_floos)"
      ],
      "metadata": {
        "colab": {
          "base_uri": "https://localhost:8080/"
        },
        "id": "RFqgIA58naHm",
        "outputId": "bddccf5d-78df-49f0-81c7-76ea7e197c3b"
      },
      "execution_count": 32,
      "outputs": [
        {
          "output_type": "stream",
          "name": "stdout",
          "text": [
            "ЖК Эльбрус 10\n",
            "ЖК Акация 20\n"
          ]
        }
      ]
    },
    {
      "cell_type": "code",
      "source": [
        "# Продублируем создание класса объектов House\n",
        "class House():\n",
        "  # Инициируем созданный класс с атрибутами name и numbers_of_floos\n",
        "  def __init__(self, name, numbers_of_floos):\n",
        "    self.name = name\n",
        "    self.numbers_of_floos = numbers_of_floos\n",
        "  # Добавим магический метод __str__\n",
        "  def __str__(self):\n",
        "    return f'Название: {self.name}, количество этажей: {self.numbers_of_floos}'\n",
        "  # Добавим магический метод __len__\n",
        "  def __len__(self):\n",
        "    return self.numbers_of_floos"
      ],
      "metadata": {
        "id": "JGCdNfOsnd6w"
      },
      "execution_count": 33,
      "outputs": []
    },
    {
      "cell_type": "code",
      "source": [
        "# Создадим два объекта класса House согластно условию\n",
        "h1 = House('ЖК Эльбрус', 10)\n",
        "h2 = House('ЖК Акация', 20)"
      ],
      "metadata": {
        "id": "5_Uvukyvqfud"
      },
      "execution_count": 34,
      "outputs": []
    },
    {
      "cell_type": "code",
      "source": [
        "# Проверим как работает магический метод __len__\n",
        "print(len(h1))\n",
        "print(len(h2))"
      ],
      "metadata": {
        "colab": {
          "base_uri": "https://localhost:8080/"
        },
        "id": "7u_6bptQo86e",
        "outputId": "a6d071fd-77b6-4159-a1a5-06f6e0b5d654"
      },
      "execution_count": 35,
      "outputs": [
        {
          "output_type": "stream",
          "name": "stdout",
          "text": [
            "10\n",
            "20\n"
          ]
        }
      ]
    },
    {
      "cell_type": "code",
      "source": [
        "# Проверим как работает магический метод __str__\n",
        "print(h1)\n",
        "print(h2)"
      ],
      "metadata": {
        "colab": {
          "base_uri": "https://localhost:8080/"
        },
        "id": "LNIFWeDcpBz6",
        "outputId": "bfd27653-3cc1-4999-ca9c-d7c7f35af1c3"
      },
      "execution_count": 36,
      "outputs": [
        {
          "output_type": "stream",
          "name": "stdout",
          "text": [
            "Название: ЖК Эльбрус, количество этажей: 10\n",
            "Название: ЖК Акация, количество этажей: 20\n"
          ]
        }
      ]
    },
    {
      "cell_type": "code",
      "source": [
        "'''Итог:\n",
        "1. Создан класс объектов House с атрибутами name и numbers_of_floos\n",
        "2. Созданы два объекта h1 и h2 класса House с разными для каждого объкта\n",
        "значениями атрибутов\n",
        "3. Внутри класса House созданы два магических метода __str__ и __len__'''"
      ],
      "metadata": {
        "id": "sHPYSWOMqyi6"
      },
      "execution_count": null,
      "outputs": []
    }
  ]
}