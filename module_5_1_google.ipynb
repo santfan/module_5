{
  "nbformat": 4,
  "nbformat_minor": 0,
  "metadata": {
    "colab": {
      "provenance": [],
      "authorship_tag": "ABX9TyPTbOYV0Se7XX0vkiKHLg+I",
      "include_colab_link": true
    },
    "kernelspec": {
      "name": "python3",
      "display_name": "Python 3"
    },
    "language_info": {
      "name": "python"
    }
  },
  "cells": [
    {
      "cell_type": "markdown",
      "metadata": {
        "id": "view-in-github",
        "colab_type": "text"
      },
      "source": [
        "<a href=\"https://colab.research.google.com/github/santfan/module_5/blob/main/module_5_1_google.ipynb\" target=\"_parent\"><img src=\"https://colab.research.google.com/assets/colab-badge.svg\" alt=\"Open In Colab\"/></a>"
      ]
    },
    {
      "cell_type": "code",
      "execution_count": null,
      "metadata": {
        "id": "9iAxD0Ahm20L"
      },
      "outputs": [],
      "source": [
        "# Создадим класс объектов House\n",
        "class House():\n",
        "  # Инициируем созданный класс с атрибутами name и numbers_of_floos\n",
        "  def __init__(self, name, numbers_of_floos):\n",
        "    self.name = name\n",
        "    self.numbers_of_floos = numbers_of_floos"
      ]
    },
    {
      "cell_type": "code",
      "source": [
        "# Создадим два объекта класса House согластно условию\n",
        "h1 = House('ЖК Горский', 18)\n",
        "h2 = House('Домик в деревне', 2)"
      ],
      "metadata": {
        "id": "85uYfoP_n613"
      },
      "execution_count": null,
      "outputs": []
    },
    {
      "cell_type": "code",
      "source": [
        "# Убедимся что объекты создались\n",
        "print(h1.name, h1.numbers_of_floos)\n",
        "print(h2.name, h2.numbers_of_floos)"
      ],
      "metadata": {
        "colab": {
          "base_uri": "https://localhost:8080/"
        },
        "id": "54tYmbSjoKXn",
        "outputId": "2fecdfa2-e77f-4532-8460-d68fb710a067"
      },
      "execution_count": null,
      "outputs": [
        {
          "output_type": "stream",
          "name": "stdout",
          "text": [
            "ЖК Горский 18\n",
            "Домик в деревне 2\n"
          ]
        }
      ]
    },
    {
      "cell_type": "code",
      "source": [
        "# Продублируем создание класса объектов House\n",
        "class House():\n",
        "  # Инициируем созданный класс с атрибутами name и numbers_of_floos\n",
        "  def __init__(self, name, numbers_of_floos):\n",
        "    self.name = name\n",
        "    self.numbers_of_floos = numbers_of_floos\n",
        "  # Добавим метод go_to с атрибутом new_floos\n",
        "  def go_to(self, new_floos):\n",
        "    # Добавим логику согластно условию\n",
        "    if self.numbers_of_floos < new_floos or new_floos < 1:\n",
        "      print('Такого этажа не существует')\n",
        "    else:\n",
        "      for i in range(1, new_floos + 1):\n",
        "        print(i)"
      ],
      "metadata": {
        "id": "smLeEVQgs2FD"
      },
      "execution_count": null,
      "outputs": []
    },
    {
      "cell_type": "code",
      "source": [
        "# Создадим два объекта класса House согластно условию\n",
        "h1 = House('ЖК Горский', 18)\n",
        "h2 = House('Домик в деревне', 2)\n",
        "# Проверим как работает созданый для объектов метод\n",
        "h1.go_to(5)\n",
        "h2.go_to(10)"
      ],
      "metadata": {
        "colab": {
          "base_uri": "https://localhost:8080/"
        },
        "id": "yNfDZ8MnoePQ",
        "outputId": "bdd638ab-87d0-4dc6-e2ce-4b555b68ea86"
      },
      "execution_count": null,
      "outputs": [
        {
          "output_type": "stream",
          "name": "stdout",
          "text": [
            "1\n",
            "2\n",
            "3\n",
            "4\n",
            "5\n",
            "Такого этажа не существует\n"
          ]
        }
      ]
    },
    {
      "cell_type": "code",
      "source": [
        "'''Итог:\n",
        "1. Создан класс объектов House с атрибутами name и numbers_of_floos\n",
        "2. Созданы два объекта h1 и h2 класса House с разными для каждого объкта\n",
        "значениями атрибутов\n",
        "3. Внутри класса House создан метод go_to c атрибутом new_floos\n",
        "4. Внутри метода go_to реализована логика согластно условию задачи'''"
      ],
      "metadata": {
        "id": "UvjGO2FNqJbE"
      },
      "execution_count": null,
      "outputs": []
    }
  ]
}