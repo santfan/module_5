{
  "nbformat": 4,
  "nbformat_minor": 0,
  "metadata": {
    "colab": {
      "provenance": [],
      "authorship_tag": "ABX9TyPuu04/3Gvik3nHZjj55M/7",
      "include_colab_link": true
    },
    "kernelspec": {
      "name": "python3",
      "display_name": "Python 3"
    },
    "language_info": {
      "name": "python"
    }
  },
  "cells": [
    {
      "cell_type": "markdown",
      "metadata": {
        "id": "view-in-github",
        "colab_type": "text"
      },
      "source": [
        "<a href=\"https://colab.research.google.com/github/santfan/module_5/blob/main/module_5_3_google.ipynb\" target=\"_parent\"><img src=\"https://colab.research.google.com/assets/colab-badge.svg\" alt=\"Open In Colab\"/></a>"
      ]
    },
    {
      "cell_type": "code",
      "source": [
        "class House:\n",
        "    def __init__(self, name, number_of_floors):\n",
        "       self.name = name\n",
        "       self.number_of_floors = number_of_floors\n",
        "\n",
        "    def __len__(self):\n",
        "         return self.number_of_floors\n",
        "    def __str__(self):\n",
        "       return f'Название: {self.name}, кол-во этажей: {self.number_of_floors}'\n",
        "    # Дополним класс магическим методом __eq__. Метод принимает два атрибута\n",
        "    # Магический метод __eq__ еще можно называть методом эквивалентности\n",
        "    def __eq__(self, other):\n",
        "        if isinstance(other.number_of_floors, int) and isinstance(other, House):\n",
        "            return self.number_of_floors == other.number_of_floors\n",
        "    # Магические методы сравнения\n",
        "    # Магический метод __lt__ метод меньше (<)\n",
        "    def __lt__(self, other):\n",
        "        if isinstance(other.number_of_floors, int) and isinstance(other, House):\n",
        "            return self.number_of_floors < other.number_of_floors\n",
        "    # Магический метод __le__ метод меньше или равно (<=)\n",
        "    def __le__(self, other):\n",
        "        if isinstance(other.number_of_floors, int) and isinstance(other, House):\n",
        "            return self.number_of_floors <= other.number_of_floors\n",
        "    # Магический метод __gt__ метод больше (>)\n",
        "    def __gt__(self, other):\n",
        "        if isinstance(other.number_of_floors, int) and isinstance(other, House):\n",
        "            return self.number_of_floors > other.number_of_floors\n",
        "    # Магический метод __ge__ метод больше или равно (>=)\n",
        "    def __ge__(self, other):\n",
        "        if isinstance(other.number_of_floors, int) and isinstance(other, House):\n",
        "            return self.number_of_floors >= other.number_of_floors\n",
        "    # Магический метод __ne__ метод не равно (!=)\n",
        "    def __ne__(self, other):\n",
        "        if isinstance(other.number_of_floors, int) and isinstance(other, House):\n",
        "            return self.number_of_floors != other.number_of_floors\n",
        "    # Дополним класс еще одним магическим методом __add__\n",
        "    def __add__(self, num):\n",
        "        if isinstance(num, int):\n",
        "            self.number_of_floors = self.number_of_floors + num\n",
        "        return self\n",
        "    # Собственно методы __iadd__ и __radd__ Это разные формы метода __add__\n",
        "    # Магический метод __radd__ еще называется отраженным присваиванием\n",
        "    def __radd__(self, num):\n",
        "        return self.__add__(num)\n",
        "    # Магический метод __iadd__ еще называется сложением с присваиванием\n",
        "    def __iadd__(self, num):\n",
        "        if isinstance(num, int):\n",
        "            self.number_of_floors += num\n",
        "        return self"
      ],
      "metadata": {
        "id": "Gshwu9ct06Uk"
      },
      "execution_count": 297,
      "outputs": []
    },
    {
      "cell_type": "code",
      "source": [
        "# Создадим два объекта класса House согластно условию\n",
        "h_1 = House('ЖК Эльбрус', 10)\n",
        "h_2 = House('ЖК Акация', 20)\n",
        "# Убедимся что объекты создались\n",
        "print(h_1)\n",
        "print(h_2)\n",
        "# Проверим работу магического метода __eq__\n",
        "print(h_1 == h_2)\n",
        "h_1 = h_1 + 10\n",
        "# Посмотрим как отработал магический метод преобразования __add__\n",
        "print(h_1)\n",
        "# Теперь количество этажей объектов h_1 и h_2 равны проверим как отработает eq\n",
        "print(h_1 == h_2)\n",
        "print(h_1.__iadd__(10))\n",
        "h2 = 10 + h_2\n",
        "# Посмотрим как отработал магический метод отраженного присваивания __radd__\n",
        "print(h_2)\n",
        "# Магические методы сравнения\n",
        "print(h_1 < h_2)\n",
        "print(h_1 <= h_2)\n",
        "print(h_1 > h_2)\n",
        "print(h_1 >= h_2)\n",
        "print(h_1 != h_2)"
      ],
      "metadata": {
        "colab": {
          "base_uri": "https://localhost:8080/"
        },
        "id": "MWFKMO-95mWI",
        "outputId": "9f6923ee-4824-4066-a1db-7768d31fa2cf"
      },
      "execution_count": 298,
      "outputs": [
        {
          "output_type": "stream",
          "name": "stdout",
          "text": [
            "Название: ЖК Эльбрус, кол-во этажей: 10\n",
            "Название: ЖК Акация, кол-во этажей: 20\n",
            "False\n",
            "Название: ЖК Эльбрус, кол-во этажей: 20\n",
            "True\n",
            "Название: ЖК Эльбрус, кол-во этажей: 30\n",
            "Название: ЖК Акация, кол-во этажей: 30\n",
            "False\n",
            "True\n",
            "False\n",
            "True\n",
            "False\n"
          ]
        }
      ]
    },
    {
      "cell_type": "code",
      "source": [],
      "metadata": {
        "id": "wrKji2e98E7o",
        "colab": {
          "base_uri": "https://localhost:8080/"
        },
        "outputId": "d1bd0f8d-f0c6-4a7e-8719-f1d7bdba32cb"
      },
      "execution_count": null,
      "outputs": [
        {
          "output_type": "stream",
          "name": "stdout",
          "text": [
            "Название: ЖК Акация, количество этажей: 30\n"
          ]
        }
      ]
    },
    {
      "cell_type": "code",
      "source": [],
      "metadata": {
        "id": "B-U7gcGJ33QF"
      },
      "execution_count": null,
      "outputs": []
    }
  ]
}