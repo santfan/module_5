{
  "nbformat": 4,
  "nbformat_minor": 0,
  "metadata": {
    "colab": {
      "provenance": [],
      "authorship_tag": "ABX9TyNppSf1qLgwe2/iofQr9uzR",
      "include_colab_link": true
    },
    "kernelspec": {
      "name": "python3",
      "display_name": "Python 3"
    },
    "language_info": {
      "name": "python"
    }
  },
  "cells": [
    {
      "cell_type": "markdown",
      "metadata": {
        "id": "view-in-github",
        "colab_type": "text"
      },
      "source": [
        "<a href=\"https://colab.research.google.com/github/santfan/module_5/blob/main/module_5_4_google.ipynb\" target=\"_parent\"><img src=\"https://colab.research.google.com/assets/colab-badge.svg\" alt=\"Open In Colab\"/></a>"
      ]
    },
    {
      "cell_type": "code",
      "execution_count": 3,
      "metadata": {
        "id": "ErJ494DdbTy5"
      },
      "outputs": [],
      "source": [
        "class House:\n",
        "    def __init__(self, name, number_of_floors):\n",
        "       self.name = name\n",
        "       self.number_of_floors = number_of_floors\n",
        "\n",
        "    def __len__(self):\n",
        "         return self.number_of_floors\n",
        "    def __str__(self):\n",
        "       return f'Название: {self.name}, кол-во этажей: {self.number_of_floors}'\n",
        "    # Дополним класс магическим методом __eq__. Метод принимает два атрибута\n",
        "    # Магический метод __eq__ еще можно называть методом эквивалентности\n",
        "    def __eq__(self, other):\n",
        "        if isinstance(other.number_of_floors, int) and isinstance(other, House):\n",
        "            return self.number_of_floors == other.number_of_floors\n",
        "    # Магические методы сравнения\n",
        "    # Магический метод __lt__ метод меньше (<)\n",
        "    def __lt__(self, other):\n",
        "        if isinstance(other.number_of_floors, int) and isinstance(other, House):\n",
        "            return self.number_of_floors < other.number_of_floors\n",
        "    # Магический метод __le__ метод меньше или равно (<=)\n",
        "    def __le__(self, other):\n",
        "        if isinstance(other.number_of_floors, int) and isinstance(other, House):\n",
        "            return self.number_of_floors <= other.number_of_floors\n",
        "    # Магический метод __gt__ метод больше (>)\n",
        "    def __gt__(self, other):\n",
        "        if isinstance(other.number_of_floors, int) and isinstance(other, House):\n",
        "            return self.number_of_floors > other.number_of_floors\n",
        "    # Магический метод __ge__ метод больше или равно (>=)\n",
        "    def __ge__(self, other):\n",
        "        if isinstance(other.number_of_floors, int) and isinstance(other, House):\n",
        "            return self.number_of_floors >= other.number_of_floors\n",
        "    # Магический метод __ne__ метод не равно (!=)\n",
        "    def __ne__(self, other):\n",
        "        if isinstance(other.number_of_floors, int) and isinstance(other, House):\n",
        "            return self.number_of_floors != other.number_of_floors\n",
        "    # Дополним класс еще одним магическим методом __add__\n",
        "    def __add__(self, num):\n",
        "        if isinstance(num, int):\n",
        "            self.number_of_floors = self.number_of_floors + num\n",
        "        return self\n",
        "    # Собственно методы __iadd__ и __radd__ Это разные формы метода __add__\n",
        "    # Магический метод __radd__ еще называется отраженным присваиванием\n",
        "    def __radd__(self, num):\n",
        "        return self.__add__(num)\n",
        "    # Магический метод __iadd__ еще называется сложением с присваиванием\n",
        "    def __iadd__(self, num):\n",
        "        if isinstance(num, int):\n",
        "            self.number_of_floors += num\n",
        "        return self\n",
        "\n",
        "    # Создадим пустой список принадлежащий классу House\n",
        "    house_history = []\n",
        "    # Создадим правила заполнения списка в методе __new__\n",
        "    def __new__(cls, *args):\n",
        "      cls.house_history.append(args[0])\n",
        "      # Вернем дополненый список в пространство имен класса\n",
        "      return object.__new__(cls)\n",
        "\n",
        "    # Инициируем создание объекта\n",
        "    def __init_(self, name, number_of_floors):\n",
        "      self.name = name\n",
        "      self.number_of_floors = number_of_floors\n",
        "\n",
        "    # Пропишем магический метод __del__\n",
        "    def __del__(self):\n",
        "      # Выведем результат магического метода\n",
        "      print(f'{self.name} снесен но память о нем останется в истории')"
      ]
    },
    {
      "cell_type": "code",
      "source": [
        "# Создадим объекты класса House и выведем изменение переменной класса house_history\n",
        "h_1 = House('ЖК Эльбрус', 10)\n",
        "print(House.house_history)\n",
        "h_2 = House('ЖК Жемчужина', 20)\n",
        "print(House.house_history)\n",
        "h_3 = House('ЖК Самоделкин', 5)\n",
        "print(House.house_history)\n",
        "\n",
        "# Удаление созданных объектов\n",
        "del h_2\n",
        "del h_3\n",
        "\n",
        "# Проверим что содержимое объекта класса не изменилось не смотря на удаления\n",
        "print(House.house_history)"
      ],
      "metadata": {
        "colab": {
          "base_uri": "https://localhost:8080/"
        },
        "outputId": "f1d4098b-8b2e-48fa-8195-be53cd800861",
        "id": "vcraxncKjn--"
      },
      "execution_count": 4,
      "outputs": [
        {
          "output_type": "stream",
          "name": "stdout",
          "text": [
            "['ЖК Эльбрус']\n",
            "['ЖК Эльбрус', 'ЖК Жемчужина']\n",
            "['ЖК Эльбрус', 'ЖК Жемчужина', 'ЖК Самоделкин']\n",
            "ЖК Жемчужина снесен но память о нем останется в истории\n",
            "ЖК Самоделкин снесен но память о нем останется в истории\n",
            "['ЖК Эльбрус', 'ЖК Жемчужина', 'ЖК Самоделкин']\n",
            "ЖК Эльбрус снесен но память о нем останется в истории\n"
          ]
        }
      ]
    },
    {
      "cell_type": "code",
      "source": [],
      "metadata": {
        "id": "mo4er-9L6MB8"
      },
      "execution_count": null,
      "outputs": []
    }
  ]
}