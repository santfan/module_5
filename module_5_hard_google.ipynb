{
  "nbformat": 4,
  "nbformat_minor": 0,
  "metadata": {
    "colab": {
      "provenance": [],
      "authorship_tag": "ABX9TyNTdx9tcXLd3cQxL5VHs9aM",
      "include_colab_link": true
    },
    "kernelspec": {
      "name": "python3",
      "display_name": "Python 3"
    },
    "language_info": {
      "name": "python"
    }
  },
  "cells": [
    {
      "cell_type": "markdown",
      "metadata": {
        "id": "view-in-github",
        "colab_type": "text"
      },
      "source": [
        "<a href=\"https://colab.research.google.com/github/santfan/module_5/blob/main/module_5_hard_google.ipynb\" target=\"_parent\"><img src=\"https://colab.research.google.com/assets/colab-badge.svg\" alt=\"Open In Colab\"/></a>"
      ]
    },
    {
      "cell_type": "code",
      "execution_count": 25,
      "metadata": {
        "id": "neWqp-QPKchX"
      },
      "outputs": [],
      "source": [
        "# Для имитации видеоконьента импортитруем модуль\n",
        "import time\n",
        "'''Объявим класс пользователей платформы Урбан Университет. При инициации\n",
        "  пользователей принимаются аргуметы Имя пользователя, хешированный пароль,\n",
        "  возраст зарегистрированного пользователя'''\n",
        "class User:\n",
        "    def __init__(self, nickname: str, password: int, age: int):\n",
        "        self.nickname = nickname\n",
        "        self.password = password\n",
        "        self.age = age\n",
        "\n",
        "    def __str__(self):\n",
        "        return self.nickname\n",
        "'''Объявим класс содержащий видеоконтент . При инициации\n",
        "  видео принимаются аргуметы название видео, продолжительность видео,\n",
        "  возрастной ограничитель установлен в положение False'''\n",
        "class Video:\n",
        "    def __init__(self, title: str, duration: int, adult_mode: bool = False):\n",
        "        self.title = title\n",
        "        self.duration = duration\n",
        "        self.time_now = 0\n",
        "        self.adult_mode = adult_mode\n",
        "# Две функции отвечающие за поиск по коллекции видео\n",
        "    def __eq__(self, other):\n",
        "        return self.title == other.title\n",
        "\n",
        "    def __contains__(self, item):\n",
        "        return item in self.title\n",
        "'''Объявим класс собственной самой видеоплатформы.'''\n",
        "class UrTube:\n",
        "    def __init__(self):\n",
        "        self.users = []\n",
        "        self.videos = []\n",
        "        self.current_user = None\n",
        "# Функция регистрации пользователя. Пароль принимается в виде строки\n",
        "    def register(self, nickname: str, password: str, age: int):\n",
        "        # Пароль жоджен содержать хотя бы одну заглавную букву\n",
        "        if not any(__.isupper() for __ in password):\n",
        "          print('Пароль должен содержать хотя бы одну заглавную букву')\n",
        "          return\n",
        "        # Пароль должен содержать хотя бы одну цифру\n",
        "        if not any(__.isdigit() for __ in password):\n",
        "          print('Пароль не отвечает требованием безопасности')\n",
        "          return\n",
        "        # Пароль дожен быть не менее 8 символов\n",
        "        if len(password) < 8:\n",
        "          print('Пароль не отвечает требованием безопасности')\n",
        "          return\n",
        "        # Передаим пароль в хешированном виде\n",
        "        password = hash(password)\n",
        "        for user in self.users:\n",
        "          # Проверим есть ли пользователь в базе\n",
        "            if user.nickname == nickname:\n",
        "                print(f\"Пользователь {nickname} уже существует\")\n",
        "                return\n",
        "\n",
        "        new_user = User(nickname, password, age)\n",
        "        # Добавим нового пользователя\n",
        "        self.users.append(new_user)\n",
        "        # Установим текущего пользователя\n",
        "        self.current_user = new_user\n",
        "# Функция выхода пользователя\n",
        "    def log_out(self):\n",
        "        self.current_user = None\n",
        "# Функция входа уже зарегистрированного пользователя\n",
        "    def log_in(self, login: str, password: str):\n",
        "        for user in self.users:\n",
        "            if login == user.nickname and password == user.password:\n",
        "                self.current_user = user\n",
        "# Функция добавления видео в контент\n",
        "    def add(self, *args):\n",
        "        for movie in args:\n",
        "            if movie not in self.videos:\n",
        "                self.videos.append(movie)\n",
        "# Функция загрузки видео\n",
        "    def get_videos(self, text: str):\n",
        "        list_movie = []\n",
        "        for video in self.videos:\n",
        "            if text.upper() in video.title.upper():\n",
        "                list_movie.append(video.title)\n",
        "        return list_movie\n",
        "# Проверка права пользователя на просмотр\n",
        "    def watch_video(self, movie: str):\n",
        "        if not self.current_user:\n",
        "            print('Войдите в аккаунт, чтобы смотреть видео')\n",
        "            return\n",
        "\n",
        "        for x in self.videos:\n",
        "            if x.title == movie:\n",
        "                if x.adult_mode and self.current_user.age < 18:\n",
        "                    print('Вам нет 18 лет, пожалуйста, покиньте страницу')\n",
        "                    return\n",
        "# Собственно имитация видео\n",
        "                for i in range(1, 11):\n",
        "                    print(i, end=' ')\n",
        "                    time.sleep(1)\n",
        "                    x.time_now += 1\n",
        "                x.time_now = 0\n",
        "                print('Конец видео')\n",
        "\n",
        "if __name__ == '__main__':\n",
        "# Обработка в точке входа\n",
        "    ur = UrTube()\n",
        "    v_1 = Video('Лучший язык программирования 2024 года', 200)\n",
        "    v_2 = Video('Для чего девушкам парень программист?', 10, adult_mode=True)"
      ]
    },
    {
      "cell_type": "code",
      "source": [
        "# Добавление видео\n",
        "ur.add(v_1, v_2)"
      ],
      "metadata": {
        "id": "WjVclX9GLpyo"
      },
      "execution_count": 26,
      "outputs": []
    },
    {
      "cell_type": "code",
      "source": [
        "# Проверка поиска\n",
        "print(ur.get_videos('лучший'))\n",
        "print(ur.get_videos('ПРОГ'))\n"
      ],
      "metadata": {
        "colab": {
          "base_uri": "https://localhost:8080/"
        },
        "id": "4XIF55noL0vy",
        "outputId": "61996ac5-ce8d-47cc-838c-b8b16742d0f2"
      },
      "execution_count": 27,
      "outputs": [
        {
          "output_type": "stream",
          "name": "stdout",
          "text": [
            "['Лучший язык программирования 2024 года']\n",
            "['Лучший язык программирования 2024 года', 'Для чего девушкам парень программист?']\n"
          ]
        }
      ]
    },
    {
      "cell_type": "code",
      "source": [
        "# Проверка на вход пользователя и возрастное ограничение\n",
        "ur.watch_video('Для чего девушкам парень программист?')\n",
        "ur.register('vasya_pupkin', 'lolkekcheurek', 13)\n",
        "ur.watch_video('Для чего девушкам парень программист?')\n",
        "ur.register('urban_pythonist', 'iScX4vIJClb9YQavjAgF', 25)\n",
        "ur.watch_video('Для чего девушкам парень программист?')"
      ],
      "metadata": {
        "colab": {
          "base_uri": "https://localhost:8080/"
        },
        "id": "TbiV14ymL45U",
        "outputId": "3754b9b9-8970-4f90-a76c-f9224a95d53c"
      },
      "execution_count": 28,
      "outputs": [
        {
          "output_type": "stream",
          "name": "stdout",
          "text": [
            "Войдите в аккаунт, чтобы смотреть видео\n",
            "Пароль должен содержать хотя бы одну заглавную букву\n",
            "Войдите в аккаунт, чтобы смотреть видео\n",
            "1 2 3 4 5 6 7 8 9 10 Конец видео\n"
          ]
        }
      ]
    },
    {
      "cell_type": "code",
      "source": [
        "# Проверка входа в другой аккаунт\n",
        "ur.register('vasya_pupkin', 'F8098FM8fjm9jmi', 55)\n",
        "print(ur.current_user)"
      ],
      "metadata": {
        "colab": {
          "base_uri": "https://localhost:8080/"
        },
        "id": "2qpd4VVgMHbm",
        "outputId": "369d977a-d025-4d10-a207-da0a84a64cc5"
      },
      "execution_count": 29,
      "outputs": [
        {
          "output_type": "stream",
          "name": "stdout",
          "text": [
            "vasya_pupkin\n"
          ]
        }
      ]
    },
    {
      "cell_type": "code",
      "source": [
        "# Попытка воспроизведения несуществующего видео\n",
        "ur.watch_video('Такого видео нет')"
      ],
      "metadata": {
        "id": "tvnmY06cMfM6"
      },
      "execution_count": 30,
      "outputs": []
    },
    {
      "cell_type": "code",
      "source": [],
      "metadata": {
        "id": "3J1TXrXKMtep"
      },
      "execution_count": null,
      "outputs": []
    }
  ]
}